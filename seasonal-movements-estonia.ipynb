{
 "cells": [
  {
   "cell_type": "code",
   "execution_count": 396,
   "id": "29812274",
   "metadata": {},
   "outputs": [],
   "source": [
    "import pandas as pd\n",
    "import geopandas as gpd\n",
    "from pyproj import CRS\n",
    "from keplergl import KeplerGl\n",
    "from shapely.geometry import Point, LineString"
   ]
  },
  {
   "cell_type": "code",
   "execution_count": 397,
   "id": "0136c93d",
   "metadata": {},
   "outputs": [],
   "source": [
    "fps = r'data/OD_matrix_201607.csv'\n",
    "geodata_summer = gpd.read_file(fps)"
   ]
  },
  {
   "cell_type": "code",
   "execution_count": 398,
   "id": "daa818b8",
   "metadata": {},
   "outputs": [],
   "source": [
    "# define crs\n",
    "geodata_summer.crs = CRS.from_epsg(3301)"
   ]
  },
  {
   "cell_type": "code",
   "execution_count": 399,
   "id": "dd8cee6b",
   "metadata": {},
   "outputs": [
    {
     "data": {
      "text/plain": [
       "'Estonian Coordinate System of 1997'"
      ]
     },
     "execution_count": 399,
     "metadata": {},
     "output_type": "execute_result"
    }
   ],
   "source": [
    "geodata_summer.crs.name"
   ]
  },
  {
   "cell_type": "code",
   "execution_count": 400,
   "id": "a7c3d167",
   "metadata": {},
   "outputs": [
    {
     "data": {
      "text/html": [
       "<div>\n",
       "<style scoped>\n",
       "    .dataframe tbody tr th:only-of-type {\n",
       "        vertical-align: middle;\n",
       "    }\n",
       "\n",
       "    .dataframe tbody tr th {\n",
       "        vertical-align: top;\n",
       "    }\n",
       "\n",
       "    .dataframe thead th {\n",
       "        text-align: right;\n",
       "    }\n",
       "</style>\n",
       "<table border=\"1\" class=\"dataframe\">\n",
       "  <thead>\n",
       "    <tr style=\"text-align: right;\">\n",
       "      <th></th>\n",
       "      <th>KANT_start</th>\n",
       "      <th>KANT_end</th>\n",
       "      <th>start_kant_id</th>\n",
       "      <th>end_kant_id</th>\n",
       "      <th>X_start</th>\n",
       "      <th>Y_start</th>\n",
       "      <th>X_end</th>\n",
       "      <th>Y_end</th>\n",
       "      <th>route_id</th>\n",
       "      <th>Population</th>\n",
       "      <th>RegularMovers</th>\n",
       "      <th>geometry</th>\n",
       "    </tr>\n",
       "  </thead>\n",
       "  <tbody>\n",
       "    <tr>\n",
       "      <th>0</th>\n",
       "      <td>Aakre Valga</td>\n",
       "      <td>Aakre Valga</td>\n",
       "      <td>1</td>\n",
       "      <td>1</td>\n",
       "      <td>627213.008798677</td>\n",
       "      <td>6440209.31365088</td>\n",
       "      <td>627213.008798677</td>\n",
       "      <td>6440209.31365088</td>\n",
       "      <td>1697</td>\n",
       "      <td>470</td>\n",
       "      <td>97</td>\n",
       "      <td>POINT (627213.009 6440209.314)</td>\n",
       "    </tr>\n",
       "    <tr>\n",
       "      <th>1</th>\n",
       "      <td>Aakre Valga</td>\n",
       "      <td>Elva linn</td>\n",
       "      <td>1</td>\n",
       "      <td>49</td>\n",
       "      <td>627213.008798677</td>\n",
       "      <td>6440209.31365088</td>\n",
       "      <td>642136.014360787</td>\n",
       "      <td>6456562.83692973</td>\n",
       "      <td>41506</td>\n",
       "      <td>470</td>\n",
       "      <td>8</td>\n",
       "      <td>POINT (627213.009 6440209.314)</td>\n",
       "    </tr>\n",
       "    <tr>\n",
       "      <th>2</th>\n",
       "      <td>Aakre Valga</td>\n",
       "      <td>Haabersti linnaosa</td>\n",
       "      <td>1</td>\n",
       "      <td>840</td>\n",
       "      <td>627213.008798677</td>\n",
       "      <td>6440209.31365088</td>\n",
       "      <td>535384.478080503</td>\n",
       "      <td>6587643.15187738</td>\n",
       "      <td>710636</td>\n",
       "      <td>470</td>\n",
       "      <td>1</td>\n",
       "      <td>POINT (627213.009 6440209.314)</td>\n",
       "    </tr>\n",
       "    <tr>\n",
       "      <th>3</th>\n",
       "      <td>Aakre Valga</td>\n",
       "      <td>Helme Valga</td>\n",
       "      <td>1</td>\n",
       "      <td>82</td>\n",
       "      <td>627213.008798677</td>\n",
       "      <td>6440209.31365088</td>\n",
       "      <td>611392.704776615</td>\n",
       "      <td>6429856.66892107</td>\n",
       "      <td>69457</td>\n",
       "      <td>470</td>\n",
       "      <td>1</td>\n",
       "      <td>POINT (627213.009 6440209.314)</td>\n",
       "    </tr>\n",
       "    <tr>\n",
       "      <th>4</th>\n",
       "      <td>Aakre Valga</td>\n",
       "      <td>Hummuli Valga</td>\n",
       "      <td>1</td>\n",
       "      <td>89</td>\n",
       "      <td>627213.008798677</td>\n",
       "      <td>6440209.31365088</td>\n",
       "      <td>619644.086140531</td>\n",
       "      <td>6418002.56618481</td>\n",
       "      <td>75386</td>\n",
       "      <td>470</td>\n",
       "      <td>2</td>\n",
       "      <td>POINT (627213.009 6440209.314)</td>\n",
       "    </tr>\n",
       "  </tbody>\n",
       "</table>\n",
       "</div>"
      ],
      "text/plain": [
       "    KANT_start            KANT_end start_kant_id end_kant_id  \\\n",
       "0  Aakre Valga         Aakre Valga             1           1   \n",
       "1  Aakre Valga           Elva linn             1          49   \n",
       "2  Aakre Valga  Haabersti linnaosa             1         840   \n",
       "3  Aakre Valga         Helme Valga             1          82   \n",
       "4  Aakre Valga       Hummuli Valga             1          89   \n",
       "\n",
       "            X_start           Y_start             X_end             Y_end  \\\n",
       "0  627213.008798677  6440209.31365088  627213.008798677  6440209.31365088   \n",
       "1  627213.008798677  6440209.31365088  642136.014360787  6456562.83692973   \n",
       "2  627213.008798677  6440209.31365088  535384.478080503  6587643.15187738   \n",
       "3  627213.008798677  6440209.31365088  611392.704776615  6429856.66892107   \n",
       "4  627213.008798677  6440209.31365088  619644.086140531  6418002.56618481   \n",
       "\n",
       "  route_id Population RegularMovers                        geometry  \n",
       "0     1697        470            97  POINT (627213.009 6440209.314)  \n",
       "1    41506        470             8  POINT (627213.009 6440209.314)  \n",
       "2   710636        470             1  POINT (627213.009 6440209.314)  \n",
       "3    69457        470             1  POINT (627213.009 6440209.314)  \n",
       "4    75386        470             2  POINT (627213.009 6440209.314)  "
      ]
     },
     "execution_count": 400,
     "metadata": {},
     "output_type": "execute_result"
    }
   ],
   "source": [
    "# adding geometry\n",
    "xorigins = geodata_summer['X_start'].to_list()\n",
    "yorigins = geodata_summer['Y_start'].to_list()\n",
    "\n",
    "geodata_summer['geometry'] = [Point(float(xcoor), float(ycoor)) for xcoor, ycoor in zip(xorigins, yorigins)]\n",
    "\n",
    "geodata_summer.head()"
   ]
  },
  {
   "cell_type": "code",
   "execution_count": 401,
   "id": "7dfb1228",
   "metadata": {},
   "outputs": [],
   "source": [
    "# geodata_summer['KANT_start'].hist(figsize=(14,8),bins=100);"
   ]
  },
  {
   "cell_type": "markdown",
   "id": "80947bd2",
   "metadata": {},
   "source": [
    "### Subseting data of main cities"
   ]
  },
  {
   "cell_type": "code",
   "execution_count": 402,
   "id": "56c8d713",
   "metadata": {},
   "outputs": [],
   "source": [
    "# geodata_summer['KANT_end'].unique()"
   ]
  },
  {
   "cell_type": "code",
   "execution_count": 403,
   "id": "e388bd50",
   "metadata": {},
   "outputs": [],
   "source": [
    "# subseting the main cities as DESTINATIONS Pärnu linn, Põhja-Tallinna linnaosa, Tartu linn, Narva linn\n",
    "geoparnu = geodata_summer.loc[geodata_summer['KANT_end'] == 'Pärnu linn' ]\n",
    "geotallinn = geodata_summer.loc[geodata_summer['KANT_end'] == 'Põhja-Tallinna linnaosa' ]\n",
    "geotartu = geodata_summer.loc[geodata_summer['KANT_end'] == 'Tartu linn' ]\n",
    "geonarva = geodata_summer.loc[geodata_summer['KANT_end'] == 'Narva linn' ]\n"
   ]
  },
  {
   "cell_type": "code",
   "execution_count": 404,
   "id": "fba653bb",
   "metadata": {},
   "outputs": [],
   "source": [
    "cities = [geoparnu, geotallinn, geonarva, geotartu]"
   ]
  },
  {
   "cell_type": "code",
   "execution_count": 405,
   "id": "ee08db76",
   "metadata": {},
   "outputs": [],
   "source": [
    "# iteration for coordinates\n",
    "\n",
    "cities_wgs = []\n",
    "\n",
    "for city in cities:\n",
    "    \n",
    "    # WGS origin\n",
    "    city = city.to_crs(4326)\n",
    "    \n",
    "    # Origins Long and Lat\n",
    "    city['lon_origin'] = [coor.x for coor in city['geometry'].to_list()]\n",
    "    city['lat_origin'] = [coor.y for coor in city['geometry'].to_list()]\n",
    "    \n",
    "    # geometry destination CRS's\n",
    "    xdestins = city['X_end'].to_list()\n",
    "    ydestins = city['Y_end'].to_list()\n",
    "    \n",
    "    city = city.to_crs(3301)\n",
    "    \n",
    "    city['geometry'] = [Point(float(xcoor), float(ycoor)) for xcoor, ycoor in zip(xdestins, ydestins)]\n",
    "    \n",
    "    city = city.to_crs(4326)\n",
    "    \n",
    "    #Destinations Long and Lat\n",
    "    city['lon_dest'] = [coor.x for coor in city['geometry'].to_list()]\n",
    "    city['lat_dest'] = [coor.y for coor in city['geometry'].to_list()]\n",
    "    \n",
    "    city['route_id'] = city['route_id'].astype(float)\n",
    "        \n",
    "    cities_wgs.append(city)"
   ]
  },
  {
   "cell_type": "code",
   "execution_count": 406,
   "id": "c12cba2d",
   "metadata": {},
   "outputs": [],
   "source": [
    "geoparnu_summer = cities_wgs[0]\n",
    "geotallinn_summer = cities_wgs[1]\n",
    "geonarva_summer = cities_wgs[2]\n",
    "geotartu_summer = cities_wgs[3]"
   ]
  },
  {
   "cell_type": "markdown",
   "id": "18034fdd",
   "metadata": {},
   "source": [
    "# Now the same but in Winter"
   ]
  },
  {
   "cell_type": "code",
   "execution_count": 407,
   "id": "6535f660",
   "metadata": {},
   "outputs": [],
   "source": [
    "fps = r'data/OD_matrix_201601.csv'\n",
    "geodata_winter = gpd.read_file(fps)"
   ]
  },
  {
   "cell_type": "code",
   "execution_count": 408,
   "id": "071e53f1",
   "metadata": {},
   "outputs": [],
   "source": [
    "# define crs\n",
    "geodata_winter.crs = CRS.from_epsg(3301)"
   ]
  },
  {
   "cell_type": "code",
   "execution_count": 409,
   "id": "aad1c160",
   "metadata": {},
   "outputs": [
    {
     "data": {
      "text/plain": [
       "'Estonian Coordinate System of 1997'"
      ]
     },
     "execution_count": 409,
     "metadata": {},
     "output_type": "execute_result"
    }
   ],
   "source": [
    "geodata_winter.crs.name"
   ]
  },
  {
   "cell_type": "code",
   "execution_count": 410,
   "id": "c7baf975",
   "metadata": {},
   "outputs": [
    {
     "data": {
      "text/html": [
       "<div>\n",
       "<style scoped>\n",
       "    .dataframe tbody tr th:only-of-type {\n",
       "        vertical-align: middle;\n",
       "    }\n",
       "\n",
       "    .dataframe tbody tr th {\n",
       "        vertical-align: top;\n",
       "    }\n",
       "\n",
       "    .dataframe thead th {\n",
       "        text-align: right;\n",
       "    }\n",
       "</style>\n",
       "<table border=\"1\" class=\"dataframe\">\n",
       "  <thead>\n",
       "    <tr style=\"text-align: right;\">\n",
       "      <th></th>\n",
       "      <th>KANT_start</th>\n",
       "      <th>KANT_end</th>\n",
       "      <th>start_kant_id</th>\n",
       "      <th>end_kant_id</th>\n",
       "      <th>X_start</th>\n",
       "      <th>Y_start</th>\n",
       "      <th>X_end</th>\n",
       "      <th>Y_end</th>\n",
       "      <th>route_id</th>\n",
       "      <th>Population</th>\n",
       "      <th>RegularMovers</th>\n",
       "      <th>geometry</th>\n",
       "    </tr>\n",
       "  </thead>\n",
       "  <tbody>\n",
       "    <tr>\n",
       "      <th>0</th>\n",
       "      <td>Aakre Valga</td>\n",
       "      <td>Aakre Valga</td>\n",
       "      <td>1</td>\n",
       "      <td>1</td>\n",
       "      <td>627213.008798677</td>\n",
       "      <td>6440209.31365088</td>\n",
       "      <td>627213.008798677</td>\n",
       "      <td>6440209.31365088</td>\n",
       "      <td>1697</td>\n",
       "      <td>470</td>\n",
       "      <td>88</td>\n",
       "      <td>POINT (627213.009 6440209.314)</td>\n",
       "    </tr>\n",
       "    <tr>\n",
       "      <th>1</th>\n",
       "      <td>Aakre Valga</td>\n",
       "      <td>Elva linn</td>\n",
       "      <td>1</td>\n",
       "      <td>49</td>\n",
       "      <td>627213.008798677</td>\n",
       "      <td>6440209.31365088</td>\n",
       "      <td>642136.014360787</td>\n",
       "      <td>6456562.83692973</td>\n",
       "      <td>41506</td>\n",
       "      <td>470</td>\n",
       "      <td>10</td>\n",
       "      <td>POINT (627213.009 6440209.314)</td>\n",
       "    </tr>\n",
       "    <tr>\n",
       "      <th>2</th>\n",
       "      <td>Aakre Valga</td>\n",
       "      <td>Elva ümbruse kant Tartu</td>\n",
       "      <td>1</td>\n",
       "      <td>50</td>\n",
       "      <td>627213.008798677</td>\n",
       "      <td>6440209.31365088</td>\n",
       "      <td>639265.501559962</td>\n",
       "      <td>6453031.6043608</td>\n",
       "      <td>42353</td>\n",
       "      <td>470</td>\n",
       "      <td>1</td>\n",
       "      <td>POINT (627213.009 6440209.314)</td>\n",
       "    </tr>\n",
       "    <tr>\n",
       "      <th>3</th>\n",
       "      <td>Aakre Valga</td>\n",
       "      <td>Helme Valga</td>\n",
       "      <td>1</td>\n",
       "      <td>82</td>\n",
       "      <td>627213.008798677</td>\n",
       "      <td>6440209.31365088</td>\n",
       "      <td>611392.704776615</td>\n",
       "      <td>6429856.66892107</td>\n",
       "      <td>69457</td>\n",
       "      <td>470</td>\n",
       "      <td>2</td>\n",
       "      <td>POINT (627213.009 6440209.314)</td>\n",
       "    </tr>\n",
       "    <tr>\n",
       "      <th>4</th>\n",
       "      <td>Aakre Valga</td>\n",
       "      <td>Hummuli Valga</td>\n",
       "      <td>1</td>\n",
       "      <td>89</td>\n",
       "      <td>627213.008798677</td>\n",
       "      <td>6440209.31365088</td>\n",
       "      <td>619644.086140531</td>\n",
       "      <td>6418002.56618481</td>\n",
       "      <td>75386</td>\n",
       "      <td>470</td>\n",
       "      <td>1</td>\n",
       "      <td>POINT (627213.009 6440209.314)</td>\n",
       "    </tr>\n",
       "  </tbody>\n",
       "</table>\n",
       "</div>"
      ],
      "text/plain": [
       "    KANT_start                 KANT_end start_kant_id end_kant_id  \\\n",
       "0  Aakre Valga              Aakre Valga             1           1   \n",
       "1  Aakre Valga                Elva linn             1          49   \n",
       "2  Aakre Valga  Elva ümbruse kant Tartu             1          50   \n",
       "3  Aakre Valga              Helme Valga             1          82   \n",
       "4  Aakre Valga            Hummuli Valga             1          89   \n",
       "\n",
       "            X_start           Y_start             X_end             Y_end  \\\n",
       "0  627213.008798677  6440209.31365088  627213.008798677  6440209.31365088   \n",
       "1  627213.008798677  6440209.31365088  642136.014360787  6456562.83692973   \n",
       "2  627213.008798677  6440209.31365088  639265.501559962   6453031.6043608   \n",
       "3  627213.008798677  6440209.31365088  611392.704776615  6429856.66892107   \n",
       "4  627213.008798677  6440209.31365088  619644.086140531  6418002.56618481   \n",
       "\n",
       "  route_id Population RegularMovers                        geometry  \n",
       "0     1697        470            88  POINT (627213.009 6440209.314)  \n",
       "1    41506        470            10  POINT (627213.009 6440209.314)  \n",
       "2    42353        470             1  POINT (627213.009 6440209.314)  \n",
       "3    69457        470             2  POINT (627213.009 6440209.314)  \n",
       "4    75386        470             1  POINT (627213.009 6440209.314)  "
      ]
     },
     "execution_count": 410,
     "metadata": {},
     "output_type": "execute_result"
    }
   ],
   "source": [
    "# adding geometry\n",
    "xorigins = geodata_winter['X_start'].to_list()\n",
    "yorigins = geodata_winter['Y_start'].to_list()\n",
    "\n",
    "geodata_winter['geometry'] = [Point(float(xcoor), float(ycoor)) for xcoor, ycoor in zip(xorigins, yorigins)]\n",
    "\n",
    "geodata_winter.head()"
   ]
  },
  {
   "cell_type": "code",
   "execution_count": 411,
   "id": "b14520b5",
   "metadata": {},
   "outputs": [],
   "source": [
    "# subseting the main cities as DESTINATIONS Pärnu linn, Põhja-Tallinna linnaosa, Tartu linn, Narva linn\n",
    "geoparnu = geodata_winter.loc[geodata_summer['KANT_end'] == 'Pärnu linn' ]\n",
    "geotallinn = geodata_winter.loc[geodata_summer['KANT_end'] == 'Põhja-Tallinna linnaosa' ]\n",
    "geotartu = geodata_winter.loc[geodata_summer['KANT_end'] == 'Tartu linn' ]\n",
    "geonarva = geodata_winter.loc[geodata_summer['KANT_end'] == 'Narva linn' ]"
   ]
  },
  {
   "cell_type": "code",
   "execution_count": 412,
   "id": "5f8abd7e",
   "metadata": {},
   "outputs": [],
   "source": [
    "cities = [geoparnu, geotallinn, geonarva, geotartu]"
   ]
  },
  {
   "cell_type": "code",
   "execution_count": 413,
   "id": "9c9e4f24",
   "metadata": {},
   "outputs": [],
   "source": [
    "# iteration for coordinates\n",
    "\n",
    "cities_wgs = []\n",
    "\n",
    "for city in cities:\n",
    "    \n",
    "    # WGS origin\n",
    "    city = city.to_crs(4326)\n",
    "    \n",
    "    # Origins Long and Lat\n",
    "    city['lon_origin'] = [coor.x for coor in city['geometry'].to_list()]\n",
    "    city['lat_origin'] = [coor.y for coor in city['geometry'].to_list()]\n",
    "    \n",
    "    # geometry destination CRS's\n",
    "    xdestins = city['X_end'].to_list()\n",
    "    ydestins = city['Y_end'].to_list()\n",
    "    \n",
    "    city = city.to_crs(3301)\n",
    "    \n",
    "    city['geometry'] = [Point(float(xcoor), float(ycoor)) for xcoor, ycoor in zip(xdestins, ydestins)]\n",
    "    \n",
    "    city = city.to_crs(4326)\n",
    "    \n",
    "    #Destinations Long and Lat\n",
    "    city['lon_dest'] = [coor.x for coor in city['geometry'].to_list()]\n",
    "    city['lat_dest'] = [coor.y for coor in city['geometry'].to_list()]\n",
    "    \n",
    "    city['route_id'] = city['route_id'].astype(float)\n",
    "\n",
    "        \n",
    "    cities_wgs.append(city)"
   ]
  },
  {
   "cell_type": "code",
   "execution_count": 414,
   "id": "f10e8fe6",
   "metadata": {},
   "outputs": [],
   "source": [
    "geoparnu_winter = cities_wgs[0]\n",
    "geotallinn_winter = cities_wgs[1]\n",
    "geonarva_winter = cities_wgs[2]\n",
    "geotartu_winter = cities_wgs[3]"
   ]
  },
  {
   "cell_type": "markdown",
   "id": "a00d1afc",
   "metadata": {},
   "source": [
    "## Now the differences"
   ]
  },
  {
   "cell_type": "code",
   "execution_count": 415,
   "id": "d0a9fada",
   "metadata": {},
   "outputs": [],
   "source": [
    "# geoparnu_winter['route_str'] = geoparnu_winter['route_id'].astype(str)"
   ]
  },
  {
   "cell_type": "code",
   "execution_count": 416,
   "id": "ca23ca6f",
   "metadata": {},
   "outputs": [],
   "source": [
    "# geoparnu_winter.dtypes"
   ]
  },
  {
   "cell_type": "code",
   "execution_count": 417,
   "id": "ae3f4f14",
   "metadata": {},
   "outputs": [],
   "source": [
    "# match routes id\n",
    "geoparnu_variation = geoparnu_summer.add_suffix('_s').merge(geoparnu_winter.add_suffix('_w'), left_on='route_id_s', right_on='route_id_w', how='outer')\n",
    "geotallinn_variation = geotallinn_summer.add_suffix('_s').merge(geotallinn_winter.add_suffix('_w'), left_on='route_id_s', right_on='route_id_w', how='outer')\n",
    "geonarva_variation = geonarva_summer.add_suffix('_s').merge(geonarva_winter.add_suffix('_w'), left_on='route_id_s', right_on='route_id_w', how='outer')\n",
    "geotartu_variation = geotartu_summer.add_suffix('_s').merge(geotartu_winter.add_suffix('_w'), left_on='route_id_s', right_on='route_id_w', how='outer')\n"
   ]
  },
  {
   "cell_type": "code",
   "execution_count": 418,
   "id": "39a7d821",
   "metadata": {},
   "outputs": [],
   "source": [
    "geoparnu_variation['RegularMovers_s'] = geoparnu_variation['RegularMovers_s'].fillna(0).astype(float)\n",
    "geotallinn_variation['RegularMovers_s'] = geotallinn_variation['RegularMovers_s'].fillna(0).astype(float)\n",
    "geonarva_variation['RegularMovers_s'] = geonarva_variation['RegularMovers_s'].fillna(0).astype(float)\n",
    "geotartu_variation['RegularMovers_s'] = geotartu_variation['RegularMovers_s'].fillna(0).astype(float)\n",
    "\n",
    "geoparnu_variation['RegularMovers_w'] = geoparnu_variation['RegularMovers_w'].fillna(0).astype(float)\n",
    "geotallinn_variation['RegularMovers_w'] = geotallinn_variation['RegularMovers_w'].fillna(0).astype(float)\n",
    "geonarva_variation['RegularMovers_w'] = geonarva_variation['RegularMovers_w'].fillna(0).astype(float)\n",
    "geotartu_variation['RegularMovers_w'] = geotartu_variation['RegularMovers_w'].fillna(0).astype(float)"
   ]
  },
  {
   "cell_type": "code",
   "execution_count": null,
   "id": "b9e5e8f1",
   "metadata": {},
   "outputs": [],
   "source": []
  },
  {
   "cell_type": "code",
   "execution_count": 419,
   "id": "cdff9c99",
   "metadata": {},
   "outputs": [],
   "source": [
    "# geoparnu_variation.dtypes"
   ]
  },
  {
   "cell_type": "code",
   "execution_count": 420,
   "id": "821999fa",
   "metadata": {},
   "outputs": [],
   "source": [
    "geoparnu_variation['parnu_va'] = geoparnu_variation['RegularMovers_s']-geoparnu_variation['RegularMovers_w']\n",
    "geotallinn_variation['tallinn_va'] = geotallinn_variation['RegularMovers_s']-geotallinn_variation['RegularMovers_w']\n",
    "geonarva_variation['narva_va'] = geonarva_variation['RegularMovers_s']-geonarva_variation['RegularMovers_w']\n",
    "geotartu_variation['tartu_va'] = geotartu_variation['RegularMovers_s']-geotartu_variation['RegularMovers_w']"
   ]
  },
  {
   "cell_type": "markdown",
   "id": "d2ba6af0",
   "metadata": {},
   "source": [
    "### When it is closer to 0 no change. Negative, more in winter. Positive, more in summer"
   ]
  },
  {
   "cell_type": "code",
   "execution_count": 421,
   "id": "0200f351",
   "metadata": {},
   "outputs": [],
   "source": [
    "geoparnu_variation = geoparnu_variation[['lon_origin_s', 'lat_origin_s', 'lon_dest_s', 'lat_dest_s',\n",
    "                                        'lon_origin_w', 'lat_origin_w', 'lon_dest_w', 'lat_dest_w',\n",
    "                                        'parnu_va', 'RegularMovers_s', 'RegularMovers_w']]\n",
    "\n",
    "geotallinn_variation = geotallinn_variation[['lon_origin_s', 'lat_origin_s', 'lon_dest_s', 'lat_dest_s',\n",
    "                                        'lon_origin_w', 'lat_origin_w', 'lon_dest_w', 'lat_dest_w',\n",
    "                                        'tallinn_va', 'RegularMovers_s', 'RegularMovers_w']]\n",
    "\n",
    "geonarva_variation = geonarva_variation[['lon_origin_s', 'lat_origin_s', 'lon_dest_s', 'lat_dest_s',\n",
    "                                        'lon_origin_w', 'lat_origin_w', 'lon_dest_w', 'lat_dest_w',\n",
    "                                        'narva_va', 'RegularMovers_s', 'RegularMovers_w']]\n",
    "\n",
    "geotartu_variation = geotartu_variation[['lon_origin_s', 'lat_origin_s', 'lon_dest_s', 'lat_dest_s',\n",
    "                                        'lon_origin_w', 'lat_origin_w', 'lon_dest_w', 'lat_dest_w',\n",
    "                                        'tartu_va', 'RegularMovers_s', 'RegularMovers_w']]"
   ]
  },
  {
   "cell_type": "code",
   "execution_count": 422,
   "id": "0918cd64",
   "metadata": {},
   "outputs": [
    {
     "name": "stdout",
     "output_type": "stream",
     "text": [
      "User Guide: https://docs.kepler.gl/docs/keplergl-jupyter\n"
     ]
    }
   ],
   "source": [
    "m = KeplerGl()\n",
    "\n",
    "m.add_data(geoparnu_variation, 'Parnu visitors')\n",
    "m.add_data(geotallinn_variation, 'Tallinn visitors')\n",
    "m.add_data(geonarva_variation, 'Narva visitors')\n",
    "m.add_data(geotartu_variation, 'Tartu visitors')"
   ]
  },
  {
   "cell_type": "code",
   "execution_count": null,
   "id": "c7e6bbbd",
   "metadata": {},
   "outputs": [],
   "source": []
  },
  {
   "cell_type": "code",
   "execution_count": null,
   "id": "7d17c251",
   "metadata": {},
   "outputs": [],
   "source": []
  },
  {
   "cell_type": "code",
   "execution_count": 423,
   "id": "70cd65a9",
   "metadata": {},
   "outputs": [
    {
     "name": "stdout",
     "output_type": "stream",
     "text": [
      "Map saved to index.html!\n"
     ]
    }
   ],
   "source": [
    "m.save_to_html(file_name='index.html')"
   ]
  },
  {
   "cell_type": "code",
   "execution_count": null,
   "id": "840bd87c",
   "metadata": {},
   "outputs": [],
   "source": []
  }
 ],
 "metadata": {
  "kernelspec": {
   "display_name": "gis",
   "language": "python",
   "name": "gis"
  },
  "language_info": {
   "codemirror_mode": {
    "name": "ipython",
    "version": 3
   },
   "file_extension": ".py",
   "mimetype": "text/x-python",
   "name": "python",
   "nbconvert_exporter": "python",
   "pygments_lexer": "ipython3",
   "version": "3.8.5"
  }
 },
 "nbformat": 4,
 "nbformat_minor": 5
}
